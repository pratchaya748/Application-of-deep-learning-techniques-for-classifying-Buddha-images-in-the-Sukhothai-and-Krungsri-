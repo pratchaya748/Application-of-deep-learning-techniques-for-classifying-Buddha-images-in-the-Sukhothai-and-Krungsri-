{
 "cells": [
  {
   "cell_type": "code",
   "execution_count": 19,
   "id": "951995b9",
   "metadata": {},
   "outputs": [],
   "source": [
    "import numpy as np"
   ]
  },
  {
   "cell_type": "code",
   "execution_count": 20,
   "id": "684959c5",
   "metadata": {},
   "outputs": [
    {
     "data": {
      "text/plain": [
       "array([1.75, 1.75, 2.5 ])"
      ]
     },
     "execution_count": 20,
     "metadata": {},
     "output_type": "execute_result"
    }
   ],
   "source": [
    "matrix = np.array([[1, 0, 2,4],[1, 1, 1,4],[1, 2, 3,4]])\n",
    "np.average(matrix, axis=1)"
   ]
  },
  {
   "cell_type": "code",
   "execution_count": 24,
   "id": "f3db39c5",
   "metadata": {},
   "outputs": [
    {
     "name": "stdout",
     "output_type": "stream",
     "text": [
      "Average of NumPy arrays:\n",
      " [1.  1.  2.5 4. ]\n"
     ]
    }
   ],
   "source": [
    "arr1 = np.array([1, 0, 2, 4])\n",
    "arr2 = np.array([1, 2, 3, 4])\n",
    "avg = (arr1 + arr2) / 2\n",
    "avg = np.array(avg)\n",
    "  \n",
    "print(\"Average of NumPy arrays:\\n\",avg)\n"
   ]
  },
  {
   "cell_type": "code",
   "execution_count": 30,
   "id": "5c009779",
   "metadata": {},
   "outputs": [
    {
     "data": {
      "text/plain": [
       "[1.0, 1.0, 2.5, 4.0]"
      ]
     },
     "execution_count": 30,
     "metadata": {},
     "output_type": "execute_result"
    }
   ],
   "source": [
    "a = [[1, 0, 2, 4],[1, 2, 3, 4]]\n",
    "[float(sum(l))/len(l) for l in zip(*a)]"
   ]
  },
  {
   "cell_type": "code",
   "execution_count": null,
   "id": "3868d94a",
   "metadata": {},
   "outputs": [],
   "source": []
  }
 ],
 "metadata": {
  "kernelspec": {
   "display_name": "Python 3",
   "language": "python",
   "name": "python3"
  },
  "language_info": {
   "codemirror_mode": {
    "name": "ipython",
    "version": 3
   },
   "file_extension": ".py",
   "mimetype": "text/x-python",
   "name": "python",
   "nbconvert_exporter": "python",
   "pygments_lexer": "ipython3",
   "version": "3.8.8"
  }
 },
 "nbformat": 4,
 "nbformat_minor": 5
}
