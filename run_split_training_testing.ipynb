{
 "cells": [
  {
   "cell_type": "code",
   "execution_count": 1,
   "metadata": {},
   "outputs": [],
   "source": [
    "## 1. Get a list of the files\n",
    "## https://machinelearningmastery.com/how-to-load-large-datasets-from-directories-for-deep-learning-with-keras/"
   ]
  },
  {
   "cell_type": "code",
   "execution_count": 2,
   "metadata": {},
   "outputs": [],
   "source": [
    "import os\n",
    "from random import shuffle\n",
    "from math import floor\n",
    "import shutil, random"
   ]
  },
  {
   "cell_type": "code",
   "execution_count": 3,
   "metadata": {},
   "outputs": [],
   "source": [
    "def get_file_list_from_dir(datadir, ext):\n",
    "    all_files = os.listdir(os.path.abspath(datadir))\n",
    "    data_files = list(filter(lambda file: file.endswith(ext), all_files))\n",
    "    return data_files"
   ]
  },
  {
   "cell_type": "code",
   "execution_count": 4,
   "metadata": {},
   "outputs": [],
   "source": [
    "def get3Sets(file_list, ratio):\n",
    "    split = ratio\n",
    "    split_index = floor(len(file_list) * split)\n",
    "    training = file_list[:split_index]\n",
    "    secondpart = file_list[split_index:]\n",
    "    split_va_index = floor(len(secondpart)*.50)\n",
    "    validation = secondpart[:split_va_index]\n",
    "    testing    = secondpart[split_va_index:]\n",
    "    \n",
    "    \n",
    "    return training, validation, testing"
   ]
  },
  {
   "cell_type": "code",
   "execution_count": 5,
   "metadata": {},
   "outputs": [],
   "source": [
    "def copyFileList(datadir, destdir, filelist):\n",
    "\n",
    "    print('Copying....please wait....')\n",
    "    filenames=filelist\n",
    "    for fname in filenames:\n",
    "        #print('filename: '+fname)\n",
    "        #srcpath = os.path.join(datadir, fname) #----------------------------------\n",
    "        #destpath= os.path.join(destdir, fname)\n",
    "        srcpath = datadir+'/'+fname\n",
    "        destpath= destdir+'/'+fname\n",
    "        #print('source: '+srcpath)\n",
    "        #print('dest:   '+destdir)\n",
    "        shutil.copy(srcpath, destpath)\n",
    "    print('Done...')"
   ]
  },
  {
   "cell_type": "code",
   "execution_count": 6,
   "metadata": {},
   "outputs": [],
   "source": [
    "def split3Sets(datadir, trdir, vadir, tedir, ext, ratio):\n",
    "    \n",
    "    data_files = get_file_list_from_dir(datadir, ext)\n",
    "    shuffle(data_files)\n",
    "    training, validation, testing = get3Sets(data_files, ratio)\n",
    "    print('split3sets')\n",
    "    print(datadir)\n",
    "    print(trdir)\n",
    "    print(vadir)\n",
    "    # saving training set to the destdir\n",
    "    print('.......................................')\n",
    "    print('Training set.....')\n",
    "    copyFileList(datadir, trdir, training)   #--------------------------------------\n",
    "    print('Validation set....')\n",
    "    copyFileList(datadir, vadir, validation)\n",
    "    print('Testing set....')\n",
    "    copyFileList(datadir, tedir, testing)   \n",
    "    \n",
    "    return training, validation, testing"
   ]
  },
  {
   "cell_type": "code",
   "execution_count": 7,
   "metadata": {},
   "outputs": [],
   "source": [
    "def split(datadir, traindir, validdir, testdir, subfolder, ext, ratio):\n",
    "    numofclass = 6\n",
    "    tr=[]\n",
    "    te=[]\n",
    "    va=[]\n",
    "    for f in subfolder:\n",
    "        srcdir= datadir  + f\n",
    "        trdir = traindir + f\n",
    "        vadir = validdir + f\n",
    "        tedir = testdir  + f\n",
    "        print('source dir: '+ srcdir)\n",
    "        print('tr dir: '+trdir)\n",
    "        print('va dir: '+vadir)\n",
    "        print('te dir: '+tedir)         # split3Sets(datadir, trdir, vadir, tedir, ext, ratio):\n",
    "        training, validation, testing, = split3Sets(srcdir, trdir, vadir, tedir, ext, ratio)\n",
    "        tr.append(training)       \n",
    "        va.append(validation) \n",
    "        te.append(testing)\n",
    "    return tr, va, te"
   ]
  },
  {
   "cell_type": "code",
   "execution_count": 8,
   "metadata": {
    "scrolled": false
   },
   "outputs": [
    {
     "name": "stdout",
     "output_type": "stream",
     "text": [
      "source dir: resized200x200/Ayutthaya\n",
      "tr dir: split/train/Ayutthaya\n",
      "va dir: split/valid/Ayutthaya\n",
      "te dir: split/test/Ayutthaya\n",
      "split3sets\n",
      "resized200x200/Ayutthaya\n",
      "split/train/Ayutthaya\n",
      "split/valid/Ayutthaya\n",
      ".......................................\n",
      "Training set.....\n",
      "Copying....please wait....\n",
      "Done...\n",
      "Validation set....\n",
      "Copying....please wait....\n",
      "Done...\n",
      "Testing set....\n",
      "Copying....please wait....\n",
      "Done...\n",
      "source dir: resized200x200/Sukhothai\n",
      "tr dir: split/train/Sukhothai\n",
      "va dir: split/valid/Sukhothai\n",
      "te dir: split/test/Sukhothai\n",
      "split3sets\n",
      "resized200x200/Sukhothai\n",
      "split/train/Sukhothai\n",
      "split/valid/Sukhothai\n",
      ".......................................\n",
      "Training set.....\n",
      "Copying....please wait....\n",
      "Done...\n",
      "Validation set....\n",
      "Copying....please wait....\n",
      "Done...\n",
      "Testing set....\n",
      "Copying....please wait....\n",
      "Done...\n"
     ]
    }
   ],
   "source": [
    "datadir= 'resized200x200/'\n",
    "trdir= 'split/train/'\n",
    "vadir= 'split/valid/'\n",
    "tedir= 'split/test/'\n",
    "ratio= 0.7\n",
    "ext='.jpg'\n",
    "subfolder=['Ayutthaya','Sukhothai']\n",
    "training, validation, testing = split(datadir, trdir, vadir, tedir, subfolder, ext, ratio)"
   ]
  },
  {
   "cell_type": "code",
   "execution_count": null,
   "metadata": {},
   "outputs": [],
   "source": []
  }
 ],
 "metadata": {
  "kernelspec": {
   "display_name": "Python 3",
   "language": "python",
   "name": "python3"
  },
  "language_info": {
   "codemirror_mode": {
    "name": "ipython",
    "version": 3
   },
   "file_extension": ".py",
   "mimetype": "text/x-python",
   "name": "python",
   "nbconvert_exporter": "python",
   "pygments_lexer": "ipython3",
   "version": "3.8.8"
  }
 },
 "nbformat": 4,
 "nbformat_minor": 4
}
