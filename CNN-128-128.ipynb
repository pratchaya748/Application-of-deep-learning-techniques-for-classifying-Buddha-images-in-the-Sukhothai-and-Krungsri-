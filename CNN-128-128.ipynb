{
 "cells": [
  {
   "cell_type": "code",
   "execution_count": 1,
   "id": "1873d20d-a50d-4e3d-8516-005fb4642901",
   "metadata": {},
   "outputs": [],
   "source": [
    "## https://blog.keras.io/building-powerful-image-classification-models-using-very-little-data.html\n",
    "## https://gist.github.com/fchollet\n",
    "meanloss = []\n",
    "valloss = []\n",
    "\n",
    "accuA = []\n",
    "valaccuA = []"
   ]
  },
  {
   "cell_type": "code",
   "execution_count": 2,
   "id": "da68b8b3-6140-4082-a012-f276f353d159",
   "metadata": {
    "scrolled": true
   },
   "outputs": [
    {
     "name": "stdout",
     "output_type": "stream",
     "text": [
      "Found 280 images belonging to 2 classes.\n",
      "Found 60 images belonging to 2 classes.\n",
      "0\n",
      "> 70.000\n",
      "loss mean = [1.7784031629562378, 0.6894744634628296, 0.6806453466415405, 0.6690258383750916, 0.6368016004562378, 0.5827692747116089, 0.5846889019012451, 0.5322639346122742, 0.49955281615257263, 0.47530534863471985, 0.4618012607097626, 0.5064551830291748, 0.4507487714290619, 0.3977298140525818, 0.37254080176353455, 0.3219837248325348, 0.32293057441711426, 0.2616403102874756, 0.24522089958190918, 0.3225671350955963]\n",
      "*************************************\n",
      "loss valmean = [0.6907755136489868, 0.6842280030250549, 0.6738513112068176, 0.654815673828125, 0.5938303470611572, 0.5684846043586731, 0.5999702215194702, 0.5393207669258118, 0.5389562249183655, 0.579214870929718, 0.5990698337554932, 0.644573986530304, 0.462188720703125, 0.4649588167667389, 0.5734981894493103, 0.4962131083011627, 0.49465733766555786, 0.46425527334213257, 0.5975649952888489, 0.6007251739501953]\n",
      "-------------------------------\n",
      "\n",
      "Found 280 images belonging to 2 classes.\n",
      "Found 60 images belonging to 2 classes.\n",
      "1\n",
      "> 76.667\n",
      "loss mean = [4.531522750854492, 0.7611602544784546, 0.660060465335846, 0.6478777527809143, 0.6278788447380066, 0.6038090586662292, 0.5905125141143799, 0.5664520263671875, 0.5409727692604065, 0.5166680812835693, 0.539533793926239, 0.5145072340965271, 0.5021476149559021, 0.4552028477191925, 0.40372711420059204, 0.3588382303714752, 0.33982864022254944, 0.32717758417129517, 0.2778666615486145, 0.2604028880596161]\n",
      "*************************************\n",
      "loss valmean = [0.9010133147239685, 0.6566616296768188, 0.6475695371627808, 0.6158247590065002, 0.6120709180831909, 0.6122959852218628, 0.5880659818649292, 0.5834398865699768, 0.5804884433746338, 0.5518516302108765, 0.6181748509407043, 0.5835965275764465, 0.601450502872467, 0.4852607548236847, 0.49566614627838135, 0.4664446711540222, 0.474284291267395, 0.5770394802093506, 0.4735412001609802, 0.4907293915748596]\n",
      "-------------------------------\n",
      "\n",
      "Found 280 images belonging to 2 classes.\n",
      "Found 60 images belonging to 2 classes.\n",
      "2\n",
      "> 61.667\n",
      "loss mean = [5.741863250732422, 0.8060464859008789, 0.6899735331535339, 0.6614046096801758, 0.6316491961479187, 0.6505282521247864, 0.6283183693885803, 0.6188188791275024, 0.5956131815910339, 0.531195878982544, 0.558232307434082, 0.4444771409034729, 0.45215845108032227, 0.6519661545753479, 0.6351180076599121, 0.5583086013793945, 0.646358072757721, 0.6579118371009827, 0.5715750455856323, 0.5347585678100586]\n",
      "*************************************\n",
      "loss valmean = [1.402783751487732, 0.6919241547584534, 0.6608294248580933, 0.6244745254516602, 0.6539499163627625, 0.6556552648544312, 0.6344864964485168, 0.6301233172416687, 0.6293716430664062, 0.6020268201828003, 0.5188242793083191, 0.49262455105781555, 0.5242828726768494, 0.6626107692718506, 0.5753878355026245, 0.8707756400108337, 0.6799511313438416, 0.6376336812973022, 0.6146067380905151, 0.5482127666473389]\n",
      "-------------------------------\n",
      "\n",
      "Found 280 images belonging to 2 classes.\n",
      "Found 60 images belonging to 2 classes.\n",
      "3\n",
      "> 73.333\n",
      "loss mean = [3.0282299518585205, 0.6489225029945374, 0.6573583483695984, 0.6355115175247192, 0.605634868144989, 0.5936166048049927, 0.5909764170646667, 0.5230315327644348, 0.49497953057289124, 0.46912968158721924, 0.4406202435493469, 0.4545539617538452, 0.4672716557979584, 0.4550892114639282, 0.3839109539985657, 0.3277451992034912, 0.3034590184688568, 0.26049014925956726, 0.22637508809566498, 0.21408958733081818]\n",
      "*************************************\n",
      "loss valmean = [0.6538273692131042, 0.6451511979103088, 0.6418529748916626, 0.6467821002006531, 0.6116209626197815, 0.6238756775856018, 0.5843608379364014, 0.5711180567741394, 0.5817387104034424, 0.5775575041770935, 0.5543004274368286, 0.601688027381897, 0.6122032403945923, 0.6465387940406799, 0.4880286753177643, 0.5473053455352783, 0.5472409129142761, 0.5017829537391663, 0.47429385781288147, 0.5476530194282532]\n",
      "-------------------------------\n",
      "\n",
      "Found 280 images belonging to 2 classes.\n",
      "Found 60 images belonging to 2 classes.\n",
      "4\n",
      "> 80.000\n",
      "loss mean = [6.798142910003662, 0.7422348856925964, 0.6907404065132141, 0.6759766936302185, 0.6611447930335999, 0.6394568681716919, 0.6180577278137207, 0.5915470719337463, 0.5613388419151306, 0.5392984747886658, 0.5103647112846375, 0.4655258059501648, 0.41854339838027954, 0.46979957818984985, 0.44346243143081665, 0.3811540901660919, 0.3494788408279419, 0.31463322043418884, 0.2616187632083893, 0.2681211829185486]\n",
      "*************************************\n",
      "loss valmean = [0.8064707517623901, 0.6869003176689148, 0.6667211055755615, 0.6657542586326599, 0.6394821405410767, 0.6203240156173706, 0.60189288854599, 0.5862589478492737, 0.625582754611969, 0.5806882381439209, 0.5931743383407593, 0.5289078950881958, 0.5700331330299377, 0.6804761290550232, 0.43776634335517883, 0.453799307346344, 0.5947631597518921, 0.5165908336639404, 0.5445205569267273, 0.5387934446334839]\n",
      "-------------------------------\n",
      "\n"
     ]
    }
   ],
   "source": [
    "# baseline model for the dogs vs cats dataset\n",
    "import sys\n",
    "from matplotlib import pyplot\n",
    "from tensorflow.keras.utils import to_categorical\n",
    "from keras.models import Sequential\n",
    "from keras.layers import Conv2D\n",
    "from keras.layers import MaxPooling2D\n",
    "from keras.layers import Dense\n",
    "from keras.layers import Flatten\n",
    "from tensorflow.keras.optimizers import SGD\n",
    "from keras.preprocessing.image import ImageDataGenerator\n",
    " \n",
    "for i in range(5):\n",
    "    # define cnn model\n",
    "    def define_model():\n",
    "        model = Sequential()\n",
    "        model.add(Conv2D(128, (3, 3), activation='relu', kernel_initializer='he_uniform', padding='same', input_shape=(200, 200, 3)))\n",
    "        model.add(MaxPooling2D((2, 2)))\n",
    "        model.add(Flatten())\n",
    "        model.add(Dense(128, activation='relu', kernel_initializer='he_uniform'))\n",
    "        model.add(Dense(1, activation='sigmoid'))\n",
    "        # compile model\n",
    "        opt = SGD(learning_rate=0.001, momentum=0.9)\n",
    "        model.compile(optimizer=opt, loss='binary_crossentropy', metrics=['accuracy'])\n",
    "        return model\n",
    "\n",
    "    # plot diagnostic learning curves\n",
    "    def summarize_diagnostics(history):\n",
    "        f = pyplot.figure(figsize=(10,10))\n",
    "        # plot loss\n",
    "        ax = f.add_subplot(211)\n",
    "        ax.title.set_text('Cross Entropy Loss')\n",
    "        ax.plot(history.history['loss'], color='blue', label='train')\n",
    "        ax.plot(history.history['val_loss'], color='orange', label='test')\n",
    "        ax.legend()\n",
    "        # plot accuracy\n",
    "        ax2 = f.add_subplot(212)\n",
    "        ax2.title.set_text('Classification Accuracy')\n",
    "        ax2.plot(history.history['accuracy'], color='blue', label='train')\n",
    "        ax2.plot(history.history['val_accuracy'], color='orange', label='test')\n",
    "        ax2.legend()\n",
    "        # save plot to file\n",
    "#         filename = sys.argv[0].split('/')[-1]\n",
    "        pyplot.savefig('loos128_128_plot.png')\n",
    "        pyplot.close()\n",
    "\n",
    "    # run the test harness for evaluating a model\n",
    "    def run_test_harness():\n",
    "        # define model\n",
    "        model = define_model()\n",
    "        # create data generator\n",
    "        datagen = ImageDataGenerator(rescale=1.0/255.0)\n",
    "        # prepare iterators\n",
    "        train_it = datagen.flow_from_directory('split/train/',\n",
    "            class_mode='binary', batch_size=64, target_size=(200, 200))\n",
    "        test_it = datagen.flow_from_directory('split/test/',\n",
    "            class_mode='binary', batch_size=64, target_size=(200, 200))\n",
    "        # fit model\n",
    "        history = model.fit(train_it, steps_per_epoch=len(train_it),\n",
    "            validation_data=test_it, validation_steps=len(test_it), epochs=20, verbose=0)\n",
    "        # evaluate model\n",
    "        _, acc = model.evaluate(test_it, steps=len(test_it), verbose=0)\n",
    "        print(i)\n",
    "        print('> %.3f' % (acc * 100.0))\n",
    "        print(f'loss mean = {history.history[\"loss\"]}')\n",
    "        print(\"*************************************\")        \n",
    "        print(f'loss valmean = {history.history[\"val_loss\"]}')\n",
    "        \n",
    "        valloss.append(history.history[\"val_loss\"])\n",
    "        meanloss.append(history.history[\"loss\"])\n",
    "        \n",
    "        accuA.append(history.history[\"accuracy\"])\n",
    "        valaccuA.append(history.history[\"val_accuracy\"])\n",
    "        # learning curves\n",
    "        summarize_diagnostics(history)\n",
    "\n",
    "    # entry point, run the test harness\n",
    "    run_test_harness()\n",
    "    print(\"-------------------------------\\n\")"
   ]
  },
  {
   "cell_type": "code",
   "execution_count": 3,
   "id": "03cb2eb8",
   "metadata": {},
   "outputs": [
    {
     "name": "stdout",
     "output_type": "stream",
     "text": [
      "[4.375632405281067, 0.7295677185058593, 0.6757556200027466, 0.6579592823982239, 0.6326218605041504, 0.6140360116958619, 0.6025107860565185, 0.5664226889610291, 0.538491427898407, 0.5063194930553436, 0.5021104633808136, 0.47710386514663694, 0.4581739783287048, 0.48595752120018004, 0.4477518618106842, 0.38960596919059753, 0.39241102933883665, 0.3643706202507019, 0.31653129160404203, 0.3199878722429276]\n",
      "[0.8909741401672363, 0.6729730606079102, 0.6581648707389831, 0.6415302634239197, 0.6221908569335938, 0.6161271095275879, 0.6017552852630615, 0.5820521950721741, 0.5912275552749634, 0.5782678127288818, 0.5767087459564209, 0.5702781975269318, 0.5540316939353943, 0.5879690527915955, 0.5140694379806519, 0.5669076144695282, 0.5581793665885926, 0.5394604444503784, 0.5409054696559906, 0.5452227592468262]\n"
     ]
    }
   ],
   "source": [
    "import numpy as np\n",
    "meanloss = [float(sum(l))/len(l) for l in zip(*meanloss)]\n",
    "print(meanloss)\n",
    "\n",
    "valloss = [float(sum(l))/len(l) for l in zip(*valloss)]\n",
    "print(valloss)"
   ]
  },
  {
   "cell_type": "code",
   "execution_count": 4,
   "id": "0989b0ac",
   "metadata": {},
   "outputs": [
    {
     "data": {
      "text/plain": [
       "<matplotlib.legend.Legend at 0x12d9db4e160>"
      ]
     },
     "execution_count": 4,
     "metadata": {},
     "output_type": "execute_result"
    },
    {
     "data": {
      "image/png": "[encoded data removed]",
      "text/plain": [
       "<Figure size 504x360 with 1 Axes>"
      ]
     },
     "metadata": {
      "needs_background": "light"
     },
     "output_type": "display_data"
    }
   ],
   "source": [
    "pyplot.figure(figsize=(7,5))\n",
    "pyplot.title('Cross Entropy Loss')\n",
    "pyplot.plot(meanloss, color='blue', label='train')\n",
    "pyplot.plot(valloss, color='orange', label='test')\n",
    "pyplot.legend()"
   ]
  },
  {
   "cell_type": "code",
   "execution_count": null,
   "id": "0ca23487",
   "metadata": {},
   "outputs": [],
   "source": []
  }
 ],
 "metadata": {
  "kernelspec": {
   "display_name": "Python 3",
   "language": "python",
   "name": "python3"
  },
  "language_info": {
   "codemirror_mode": {
    "name": "ipython",
    "version": 3
   },
   "file_extension": ".py",
   "mimetype": "text/x-python",
   "name": "python",
   "nbconvert_exporter": "python",
   "pygments_lexer": "ipython3",
   "version": "3.8.8"
  }
 },
 "nbformat": 4,
 "nbformat_minor": 5
}
