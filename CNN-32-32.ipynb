{
 "cells": [
  {
   "cell_type": "code",
   "execution_count": 13,
   "id": "1873d20d-a50d-4e3d-8516-005fb4642901",
   "metadata": {},
   "outputs": [],
   "source": [
    "## https://blog.keras.io/building-powerful-image-classification-models-using-very-little-data.html\n",
    "## https://gist.github.com/fchollet\n",
    "meanloss = []\n",
    "valloss = []\n",
    "\n",
    "accuA = []\n",
    "valaccuA = []"
   ]
  },
  {
   "cell_type": "code",
   "execution_count": 14,
   "id": "da68b8b3-6140-4082-a012-f276f353d159",
   "metadata": {
    "scrolled": false
   },
   "outputs": [
    {
     "name": "stdout",
     "output_type": "stream",
     "text": [
      "Found 280 images belonging to 2 classes.\n",
      "Found 60 images belonging to 2 classes.\n",
      "0\n",
      "> 65.000\n",
      "loss mean = [1.0341451168060303, 0.6824260950088501, 0.6429955363273621, 0.613048255443573, 0.5916184782981873, 0.5583440661430359, 0.5491618514060974, 0.4972221255302429, 0.4838310182094574, 0.4566592872142792, 0.4417804777622223, 0.44635501503944397, 0.44633999466896057, 0.5291134715080261, 0.49807411432266235, 0.4027422368526459, 0.3579048216342926, 0.3569679260253906, 0.3654617965221405, 0.29465144872665405]\n",
      "*************************************\n",
      "loss valmean = [0.6784504055976868, 0.6536821722984314, 0.6445507407188416, 0.5986039638519287, 0.5928618311882019, 0.5505661368370056, 0.545121967792511, 0.5321483612060547, 0.49030348658561707, 0.5077027082443237, 0.5036858916282654, 0.5134871602058411, 0.7456782460212708, 0.7835041284561157, 0.49969565868377686, 0.5030210018157959, 0.4926791489124298, 0.5465191602706909, 0.4737679660320282, 0.5844123959541321]\n",
      "-------------------------------\n",
      "\n",
      "Found 280 images belonging to 2 classes.\n",
      "Found 60 images belonging to 2 classes.\n",
      "1\n",
      "> 73.333\n",
      "loss mean = [0.9249062538146973, 0.6633334755897522, 0.6531320214271545, 0.607416570186615, 0.5801437497138977, 0.4130852222442627, 0.53230220079422, 0.5510561466217041, 0.528386116027832, 0.4778164029121399, 0.4292193651199341, 0.41747331619262695, 0.41522249579429626, 0.41173285245895386, 0.28211599588394165, 0.2155151516199112, 0.21285736560821533, 0.2140866070985794, 0.18974703550338745, 0.19778577983379364]\n",
      "*************************************\n",
      "loss valmean = [0.7174994945526123, 0.6733354926109314, 0.7766297459602356, 0.6192452907562256, 0.5118479132652283, 0.4585566818714142, 0.48926347494125366, 0.5478482842445374, 0.48171576857566833, 0.5390661954879761, 0.4641515016555786, 0.5770986080169678, 0.7526538968086243, 0.5696633458137512, 0.5380403995513916, 0.4661872088909149, 0.4848032295703888, 0.5634539127349854, 0.6491129398345947, 0.5278062224388123]\n",
      "-------------------------------\n",
      "\n",
      "Found 280 images belonging to 2 classes.\n",
      "Found 60 images belonging to 2 classes.\n",
      "2\n",
      "> 60.000\n",
      "loss mean = [0.9128731489181519, 0.6980109214782715, 0.6374756693840027, 0.6255197525024414, 0.5675228834152222, 0.6004573106765747, 0.521939754486084, 0.4650777578353882, 0.44093531370162964, 0.42470210790634155, 0.3878825008869171, 0.372505784034729, 0.34254562854766846, 0.37573668360710144, 0.3536461293697357, 0.4344356060028076, 0.33711451292037964, 0.2659420371055603, 0.31594473123550415, 0.2540867030620575]\n",
      "*************************************\n",
      "loss valmean = [0.7098392844200134, 0.6656780242919922, 0.6323229670524597, 0.592599093914032, 0.6283213496208191, 0.5391432046890259, 0.5267136096954346, 0.4925764203071594, 0.4898656904697418, 0.47293561697006226, 0.4767167866230011, 0.46901804208755493, 0.5307670831680298, 0.4608258605003357, 0.7598077058792114, 0.6392608880996704, 0.4478845000267029, 0.4591652452945709, 0.5123422145843506, 0.8266724944114685]\n",
      "-------------------------------\n",
      "\n",
      "Found 280 images belonging to 2 classes.\n",
      "Found 60 images belonging to 2 classes.\n",
      "3\n",
      "> 78.333\n",
      "loss mean = [1.3012194633483887, 1.5676839351654053, 0.6901045441627502, 0.6919406652450562, 0.6781347393989563, 0.6677142381668091, 0.6583343148231506, 0.6469330787658691, 0.6415079236030579, 0.6291958689689636, 0.5847511291503906, 0.5567679405212402, 0.5512229204177856, 0.5696890950202942, 0.5766359567642212, 0.5550327897071838, 0.4964302182197571, 0.45411792397499084, 0.4448142945766449, 0.42921561002731323]\n",
      "*************************************\n",
      "loss valmean = [2.455322265625, 0.6855624318122864, 0.6918028593063354, 0.6810020208358765, 0.6700342297554016, 0.6600229144096375, 0.6511189937591553, 0.6436134576797485, 0.6376509070396423, 0.6099043488502502, 0.5535576939582825, 0.5334091186523438, 0.5258983969688416, 0.5135591626167297, 0.5031654834747314, 0.4967432916164398, 0.49232807755470276, 0.495973140001297, 0.4881229102611542, 0.4783054292201996]\n",
      "-------------------------------\n",
      "\n",
      "Found 280 images belonging to 2 classes.\n",
      "Found 60 images belonging to 2 classes.\n",
      "4\n",
      "> 48.333\n",
      "loss mean = [0.9040765762329102, 0.6786431670188904, 0.688323974609375, 0.6915099620819092, 0.6904305815696716, 0.6901294589042664, 0.6889457106590271, 0.6884658932685852, 0.6877904534339905, 0.6875808238983154, 0.6870811581611633, 0.687667727470398, 0.686169445514679, 0.6863473057746887, 0.6855769753456116, 0.6848810911178589, 0.6840607523918152, 0.6838801503181458, 0.6833235621452332, 0.6830939054489136]\n",
      "*************************************\n",
      "loss valmean = [0.6809405088424683, 0.6545745730400085, 0.6926056742668152, 0.696010172367096, 0.6930830478668213, 0.6939306855201721, 0.6957282423973083, 0.695214569568634, 0.6946223378181458, 0.6944576501846313, 0.6932212710380554, 0.6938216090202332, 0.6916888952255249, 0.6921098232269287, 0.6968440413475037, 0.6952558159828186, 0.694065272808075, 0.6942310333251953, 0.6955511569976807, 0.694213330745697]\n",
      "-------------------------------\n",
      "\n"
     ]
    }
   ],
   "source": [
    "# baseline model for the dogs vs cats dataset\n",
    "import sys\n",
    "from matplotlib import pyplot\n",
    "from tensorflow.keras.utils import to_categorical\n",
    "from keras.models import Sequential\n",
    "from keras.layers import Conv2D\n",
    "from keras.layers import MaxPooling2D\n",
    "from keras.layers import Dense\n",
    "from keras.layers import Flatten\n",
    "from tensorflow.keras.optimizers import SGD\n",
    "from keras.preprocessing.image import ImageDataGenerator\n",
    " \n",
    "for i in range(5):\n",
    "    # define cnn model\n",
    "    def define_model():\n",
    "        model = Sequential()\n",
    "        model.add(Conv2D(32, (3, 3), activation='relu', kernel_initializer='he_uniform', padding='same', input_shape=(200, 200, 3)))\n",
    "        model.add(MaxPooling2D((2, 2)))\n",
    "        model.add(Flatten())\n",
    "        model.add(Dense(32, activation='relu', kernel_initializer='he_uniform'))\n",
    "        model.add(Dense(1, activation='sigmoid'))\n",
    "        # compile model\n",
    "        opt = SGD(learning_rate=0.001, momentum=0.9)\n",
    "        model.compile(optimizer=opt, loss='binary_crossentropy', metrics=['accuracy'])\n",
    "        return model\n",
    "\n",
    "    # plot diagnostic learning curves\n",
    "    def summarize_diagnostics(history):\n",
    "        f = pyplot.figure(figsize=(10,10))\n",
    "        # plot loss\n",
    "        ax = f.add_subplot(211)\n",
    "        ax.title.set_text('Cross Entropy Loss')\n",
    "        ax.plot(history.history['loss'], color='blue', label='train')\n",
    "        ax.plot(history.history['val_loss'], color='orange', label='test')\n",
    "        ax.legend()\n",
    "        # plot accuracy\n",
    "        ax2 = f.add_subplot(212)\n",
    "        ax2.title.set_text('Classification Accuracy')\n",
    "        ax2.plot(history.history['accuracy'], color='blue', label='train')\n",
    "        ax2.plot(history.history['val_accuracy'], color='orange', label='test')\n",
    "        ax2.legend()\n",
    "        # save plot to file\n",
    "#         filename = sys.argv[0].split('/')[-1]\n",
    "        pyplot.savefig('loos32_32_plot.png')\n",
    "        pyplot.close()\n",
    "\n",
    "    # run the test harness for evaluating a model\n",
    "    def run_test_harness():\n",
    "        # define model\n",
    "        model = define_model()\n",
    "        # create data generator\n",
    "        datagen = ImageDataGenerator(rescale=1.0/255.0)\n",
    "        # prepare iterators\n",
    "        train_it = datagen.flow_from_directory('split/train/',\n",
    "            class_mode='binary', batch_size=64, target_size=(200, 200))\n",
    "        test_it = datagen.flow_from_directory('split/test/',\n",
    "            class_mode='binary', batch_size=64, target_size=(200, 200))\n",
    "        # fit model\n",
    "        history = model.fit(train_it, steps_per_epoch=len(train_it),\n",
    "            validation_data=test_it, validation_steps=len(test_it), epochs=20, verbose=0)\n",
    "        # evaluate model\n",
    "        _, acc = model.evaluate(test_it, steps=len(test_it), verbose=0)\n",
    "        print(i)\n",
    "        print('> %.3f' % (acc * 100.0))\n",
    "        print(f'loss mean = {history.history[\"loss\"]}')\n",
    "        print(\"*************************************\")        \n",
    "        print(f'loss valmean = {history.history[\"val_loss\"]}')\n",
    "        \n",
    "        valloss.append(history.history[\"val_loss\"])\n",
    "        meanloss.append(history.history[\"loss\"])\n",
    "        \n",
    "        accuA.append(history.history[\"accuracy\"])\n",
    "        valaccuA.append(history.history[\"val_accuracy\"])\n",
    "        # learning curves\n",
    "        summarize_diagnostics(history)\n",
    "\n",
    "    # entry point, run the test harness\n",
    "    run_test_harness()\n",
    "    print(\"-------------------------------\\n\")"
   ]
  },
  {
   "cell_type": "code",
   "execution_count": 30,
   "id": "0f9fb66c",
   "metadata": {},
   "outputs": [
    {
     "ename": "TypeError",
     "evalue": "'float' object is not iterable",
     "output_type": "error",
     "traceback": [
      "\u001b[1;31m---------------------------------------------------------------------------\u001b[0m",
      "\u001b[1;31mTypeError\u001b[0m                                 Traceback (most recent call last)",
      "\u001b[1;32m<ipython-input-30-fd26e10292bc>\u001b[0m in \u001b[0;36m<module>\u001b[1;34m\u001b[0m\n\u001b[1;32m----> 1\u001b[1;33m \u001b[0mmeanloss\u001b[0m \u001b[1;33m=\u001b[0m \u001b[1;33m[\u001b[0m\u001b[0mfloat\u001b[0m\u001b[1;33m(\u001b[0m\u001b[0msum\u001b[0m\u001b[1;33m(\u001b[0m\u001b[0ml\u001b[0m\u001b[1;33m)\u001b[0m\u001b[1;33m)\u001b[0m\u001b[1;33m/\u001b[0m\u001b[0mlen\u001b[0m\u001b[1;33m(\u001b[0m\u001b[0ml\u001b[0m\u001b[1;33m)\u001b[0m \u001b[1;32mfor\u001b[0m \u001b[0ml\u001b[0m \u001b[1;32min\u001b[0m \u001b[0mzip\u001b[0m\u001b[1;33m(\u001b[0m\u001b[1;33m*\u001b[0m\u001b[0mmeanloss\u001b[0m\u001b[1;33m)\u001b[0m\u001b[1;33m]\u001b[0m\u001b[1;33m\u001b[0m\u001b[1;33m\u001b[0m\u001b[0m\n\u001b[0m\u001b[0;32m      2\u001b[0m \u001b[0mprint\u001b[0m\u001b[1;33m(\u001b[0m\u001b[0mmeanloss\u001b[0m\u001b[1;33m)\u001b[0m\u001b[1;33m\u001b[0m\u001b[1;33m\u001b[0m\u001b[0m\n\u001b[0;32m      3\u001b[0m \u001b[0mvalloss\u001b[0m \u001b[1;33m=\u001b[0m \u001b[1;33m[\u001b[0m\u001b[0mfloat\u001b[0m\u001b[1;33m(\u001b[0m\u001b[0msum\u001b[0m\u001b[1;33m(\u001b[0m\u001b[0ml\u001b[0m\u001b[1;33m)\u001b[0m\u001b[1;33m)\u001b[0m\u001b[1;33m/\u001b[0m\u001b[0mlen\u001b[0m\u001b[1;33m(\u001b[0m\u001b[0ml\u001b[0m\u001b[1;33m)\u001b[0m \u001b[1;32mfor\u001b[0m \u001b[0ml\u001b[0m \u001b[1;32min\u001b[0m \u001b[0mzip\u001b[0m\u001b[1;33m(\u001b[0m\u001b[1;33m*\u001b[0m\u001b[0mvalloss\u001b[0m\u001b[1;33m)\u001b[0m\u001b[1;33m]\u001b[0m\u001b[1;33m\u001b[0m\u001b[1;33m\u001b[0m\u001b[0m\n\u001b[0;32m      4\u001b[0m \u001b[0mprint\u001b[0m\u001b[1;33m(\u001b[0m\u001b[0mvalloss\u001b[0m\u001b[1;33m)\u001b[0m\u001b[1;33m\u001b[0m\u001b[1;33m\u001b[0m\u001b[0m\n",
      "\u001b[1;31mTypeError\u001b[0m: 'float' object is not iterable"
     ]
    }
   ],
   "source": [
    "meanloss = [float(sum(l))/len(l) for l in zip(*meanloss)]\n",
    "print(meanloss)\n",
    "\n",
    "valloss = [float(sum(l))/len(l) for l in zip(*valloss)]\n",
    "print(valloss)"
   ]
  },
  {
   "cell_type": "code",
   "execution_count": 32,
   "id": "00c875a6",
   "metadata": {},
   "outputs": [
    {
     "data": {
      "text/plain": [
       "<matplotlib.legend.Legend at 0x2d60559aeb0>"
      ]
     },
     "execution_count": 32,
     "metadata": {},
     "output_type": "execute_result"
    },
    {
     "data": {
      "image/png": "[encoded data removed]",
      "text/plain": [
       "<Figure size 504x360 with 1 Axes>"
      ]
     },
     "metadata": {
      "needs_background": "light"
     },
     "output_type": "display_data"
    }
   ],
   "source": [
    "pyplot.figure(figsize=(7,5))\n",
    "pyplot.title('Cross Entropy Loss')\n",
    "pyplot.plot(meanloss, color='blue', label='train')\n",
    "pyplot.plot(valloss, color='orange', label='test')\n",
    "pyplot.legend()"
   ]
  },
  {
   "cell_type": "code",
   "execution_count": null,
   "id": "cfc759a4",
   "metadata": {},
   "outputs": [],
   "source": []
  }
 ],
 "metadata": {
  "kernelspec": {
   "display_name": "Python 3",
   "language": "python",
   "name": "python3"
  },
  "language_info": {
   "codemirror_mode": {
    "name": "ipython",
    "version": 3
   },
   "file_extension": ".py",
   "mimetype": "text/x-python",
   "name": "python",
   "nbconvert_exporter": "python",
   "pygments_lexer": "ipython3",
   "version": "3.8.8"
  }
 },
 "nbformat": 4,
 "nbformat_minor": 5
}
